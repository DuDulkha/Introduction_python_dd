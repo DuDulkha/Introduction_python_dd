{
 "cells": [
  {
   "cell_type": "markdown",
   "id": "646a7fe2",
   "metadata": {},
   "source": [
    "# https://www.youtube.com/watch?v=uVLzL5E-YBM&t=457s - Tutorial\n",
    "# Sample notebooks - https://github.com/ageron/handson-ml"
   ]
  },
  {
   "cell_type": "markdown",
   "id": "6cdf5153",
   "metadata": {},
   "source": [
    "hihihihi"
   ]
  },
  {
   "cell_type": "code",
   "execution_count": 1,
   "id": "52dfe76a",
   "metadata": {
    "scrolled": true
   },
   "outputs": [
    {
     "name": "stdout",
     "output_type": "stream",
     "text": [
      "15\n"
     ]
    }
   ],
   "source": [
    "bat = 15\n",
    "print(bat)"
   ]
  },
  {
   "cell_type": "code",
   "execution_count": 3,
   "id": "3e7e3a93",
   "metadata": {},
   "outputs": [
    {
     "data": {
      "text/plain": [
       "15"
      ]
     },
     "execution_count": 3,
     "metadata": {},
     "output_type": "execute_result"
    }
   ],
   "source": [
    "bat"
   ]
  },
  {
   "cell_type": "code",
   "execution_count": null,
   "id": "2136f1d7",
   "metadata": {},
   "outputs": [],
   "source": []
  },
  {
   "cell_type": "code",
   "execution_count": 1,
   "id": "82828430",
   "metadata": {},
   "outputs": [],
   "source": [
    "x = 5\n",
    "y = 15"
   ]
  },
  {
   "cell_type": "markdown",
   "id": "9c335dd6",
   "metadata": {},
   "source": [
    "The above variable assignation is just an example."
   ]
  },
  {
   "cell_type": "code",
   "execution_count": 2,
   "id": "d7811d34",
   "metadata": {
    "scrolled": true
   },
   "outputs": [
    {
     "name": "stdout",
     "output_type": "stream",
     "text": [
      "Enter a name: sugar\n"
     ]
    }
   ],
   "source": [
    "# this is code\n",
    "name = input(\"Enter a name: \")\n"
   ]
  },
  {
   "cell_type": "code",
   "execution_count": 3,
   "id": "c4970500",
   "metadata": {},
   "outputs": [
    {
     "name": "stdout",
     "output_type": "stream",
     "text": [
      "sugar\n"
     ]
    }
   ],
   "source": [
    "print(name)"
   ]
  },
  {
   "cell_type": "code",
   "execution_count": 4,
   "id": "1053de03",
   "metadata": {},
   "outputs": [
    {
     "ename": "NameError",
     "evalue": "name 'x' is not defined",
     "output_type": "error",
     "traceback": [
      "\u001b[1;31m---------------------------------------------------------------------------\u001b[0m",
      "\u001b[1;31mNameError\u001b[0m                                 Traceback (most recent call last)",
      "\u001b[1;32m~\\AppData\\Local\\Temp\\ipykernel_13320\\842061836.py\u001b[0m in \u001b[0;36m<module>\u001b[1;34m\u001b[0m\n\u001b[0;32m      1\u001b[0m \u001b[1;31m# this is code\u001b[0m\u001b[1;33m\u001b[0m\u001b[1;33m\u001b[0m\u001b[0m\n\u001b[1;32m----> 2\u001b[1;33m \u001b[0mprint\u001b[0m\u001b[1;33m(\u001b[0m\u001b[0mx\u001b[0m\u001b[1;33m)\u001b[0m\u001b[1;33m\u001b[0m\u001b[1;33m\u001b[0m\u001b[0m\n\u001b[0m\u001b[0;32m      3\u001b[0m \u001b[0mprint\u001b[0m\u001b[1;33m(\u001b[0m\u001b[0my\u001b[0m\u001b[1;33m)\u001b[0m\u001b[1;33m\u001b[0m\u001b[1;33m\u001b[0m\u001b[0m\n\u001b[0;32m      4\u001b[0m \u001b[0mprint\u001b[0m\u001b[1;33m(\u001b[0m\u001b[0mname\u001b[0m\u001b[1;33m)\u001b[0m\u001b[1;33m\u001b[0m\u001b[1;33m\u001b[0m\u001b[0m\n",
      "\u001b[1;31mNameError\u001b[0m: name 'x' is not defined"
     ]
    }
   ],
   "source": [
    "# this is code \n",
    "print(x)\n",
    "print(y)\n",
    "print(name)"
   ]
  },
  {
   "cell_type": "markdown",
   "id": "14a82415",
   "metadata": {},
   "source": [
    "# Markdown examples\n",
    "\n",
    "simple text <br>\n",
    "simple <br>\n",
    "simple <br>\n",
    "\n",
    "## Parameter A\n",
    "### Subsection\n",
    "This is text, too.\n",
    "\n",
    "$\\alpha \\frac{5}{4}$\n"
   ]
  },
  {
   "cell_type": "code",
   "execution_count": 5,
   "id": "eec318be",
   "metadata": {},
   "outputs": [
    {
     "name": "stdout",
     "output_type": "stream",
     "text": [
      "Enter a name: Suren\n"
     ]
    }
   ],
   "source": [
    "name = input(\"Enter a name: \")"
   ]
  },
  {
   "cell_type": "code",
   "execution_count": 6,
   "id": "98b092aa",
   "metadata": {},
   "outputs": [
    {
     "name": "stdout",
     "output_type": "stream",
     "text": [
      "Suren\n"
     ]
    }
   ],
   "source": [
    "print(name)"
   ]
  }
 ],
 "metadata": {
  "kernelspec": {
   "display_name": "Python 3 (ipykernel)",
   "language": "python",
   "name": "python3"
  },
  "language_info": {
   "codemirror_mode": {
    "name": "ipython",
    "version": 3
   },
   "file_extension": ".py",
   "mimetype": "text/x-python",
   "name": "python",
   "nbconvert_exporter": "python",
   "pygments_lexer": "ipython3",
   "version": "3.9.13"
  },
  "vscode": {
   "interpreter": {
    "hash": "5cf5c64c8618ece2cdba7467e96fb545025c8173d5d08cf0b038ad90dc968c8d"
   }
  }
 },
 "nbformat": 4,
 "nbformat_minor": 5
}
